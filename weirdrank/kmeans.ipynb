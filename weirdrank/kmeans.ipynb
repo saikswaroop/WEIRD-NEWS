{
 "cells": [
  {
   "cell_type": "code",
   "execution_count": 77,
   "metadata": {
    "collapsed": false
   },
   "outputs": [],
   "source": [
    "from sklearn.cluster import KMeans\n",
    "import numpy as np\n",
    "import pandas as pd\n",
    "import numpy as np\n",
    "%matplotlib inline\n",
    "import matplotlib.pyplot as plt\n",
    "from sklearn.cluster import SpectralClustering\n",
    "import seaborn as sns; sns.set()  # for plot styling\n",
    "from sklearn.metrics import confusion_matrix\n",
    "from sklearn.metrics import classification_report\n",
    "\n"
   ]
  },
  {
   "cell_type": "code",
   "execution_count": 59,
   "metadata": {
    "collapsed": false
   },
   "outputs": [
    {
     "name": "stdout",
     "output_type": "stream",
     "text": [
      "Loading data ...\n",
      "Creating training set ...\n",
      "(500, 17) (500,)\n"
     ]
    }
   ],
   "source": [
    "print('Loading data ...')\n",
    "# train = pd.read_csv('FeatureVect.csv')\n",
    "train = pd.read_csv('output.csv')\n",
    "\n",
    "print('Creating training set ...')\n",
    "x_train = train.drop(['LABEL'], axis=1)\n",
    "y_train = train['LABEL'].values\n",
    "print(x_train.shape, y_train.shape)\n"
   ]
  },
  {
   "cell_type": "code",
   "execution_count": 60,
   "metadata": {
    "collapsed": false
   },
   "outputs": [
    {
     "name": "stdout",
     "output_type": "stream",
     "text": [
      "(500, 17) (500,)\n",
      "(100, 17) (100,)\n"
     ]
    }
   ],
   "source": [
    "print(x_train.shape, y_train.shape)\n",
    "print(x_valid.shape, y_valid.shape)"
   ]
  },
  {
   "cell_type": "code",
   "execution_count": 78,
   "metadata": {
    "collapsed": false
   },
   "outputs": [
    {
     "name": "stdout",
     "output_type": "stream",
     "text": [
      "[[  0   0   0   2]\n",
      " [ 19  29  15  13]\n",
      " [ 93 110  85  74]\n",
      " [ 13  14  18  15]]\n",
      "             precision    recall  f1-score   support\n",
      "\n",
      "          0       0.00      0.00      0.00         2\n",
      "          1       0.19      0.38      0.25        76\n",
      "          2       0.72      0.23      0.35       362\n",
      "          3       0.14      0.25      0.18        60\n",
      "\n",
      "avg / total       0.57      0.26      0.32       500\n",
      "\n"
     ]
    }
   ],
   "source": [
    "kmeans = KMeans(n_clusters=4)\n",
    "X= x_train\n",
    "\n",
    "kmeans.fit(X)\n",
    "y_kmeans = kmeans.predict(X)\n",
    "print( confusion_matrix(y_train, y_kmeans))\n",
    "print( classification_report(y_train, y_kmeans))\n"
   ]
  },
  {
   "cell_type": "code",
   "execution_count": 62,
   "metadata": {
    "collapsed": false
   },
   "outputs": [],
   "source": [
    "# plt.scatter(x_train[:], x_train[:], c=y_kmeans, s=50, cmap='viridis')\n",
    "# centers = kmeans.cluster_centers_\n",
    "# plt.scatter(centers[:, 0], centers[:, 1], c='black', s=200, alpha=0.5);"
   ]
  },
  {
   "cell_type": "code",
   "execution_count": 63,
   "metadata": {
    "collapsed": false
   },
   "outputs": [],
   "source": [
    "model = SpectralClustering(n_clusters=4, affinity='nearest_neighbors',\n",
    "                           assign_labels='kmeans')\n",
    "labels = model.fit_predict(X)"
   ]
  },
  {
   "cell_type": "code",
   "execution_count": 64,
   "metadata": {
    "collapsed": false
   },
   "outputs": [],
   "source": [
    "# for i in range(len(y_kmeans)):\n",
    "#     print (y_train[i],  labels[i])"
   ]
  },
  {
   "cell_type": "code",
   "execution_count": 76,
   "metadata": {
    "collapsed": false
   },
   "outputs": [
    {
     "name": "stdout",
     "output_type": "stream",
     "text": [
      "[[  0   1   1   0]\n",
      " [ 23  13  35   5]\n",
      " [100  86 135  41]\n",
      " [ 13  19  21   7]]\n"
     ]
    }
   ],
   "source": [
    "print( confusion_matrix(y_train, labels))\n"
   ]
  },
  {
   "cell_type": "code",
   "execution_count": 72,
   "metadata": {
    "collapsed": false
   },
   "outputs": [
    {
     "name": "stdout",
     "output_type": "stream",
     "text": [
      "362\n",
      "72.39999999999999\n"
     ]
    }
   ],
   "source": [
    "\n",
    "max_accu= len(x_train)\n",
    "accuracy=max_accu\n",
    "for i in range(len(x_train)):\n",
    "    if abs(y_train[i] - labels[i]) >=2 :\n",
    "        accuracy -=1\n",
    "\n",
    "print (accuracy)\n",
    "accuracy = accuracy / max_accu *100\n",
    "\n",
    "print (accuracy)"
   ]
  },
  {
   "cell_type": "code",
   "execution_count": null,
   "metadata": {
    "collapsed": true
   },
   "outputs": [],
   "source": []
  }
 ],
 "metadata": {
  "kernelspec": {
   "display_name": "Python 3",
   "language": "python",
   "name": "python3"
  },
  "language_info": {
   "codemirror_mode": {
    "name": "ipython",
    "version": 3
   },
   "file_extension": ".py",
   "mimetype": "text/x-python",
   "name": "python",
   "nbconvert_exporter": "python",
   "pygments_lexer": "ipython3",
   "version": "3.6.1"
  }
 },
 "nbformat": 4,
 "nbformat_minor": 2
}
